{
 "cells": [
  {
   "cell_type": "markdown",
   "id": "9b36532f",
   "metadata": {},
   "source": [
    "<h4>I used Claude, Anthropic's model to help with the code portion of this assignment.</h4>\n",
    "<h4>I used Copilot for help understanding these concepts.</h4>"
   ]
  },
  {
   "cell_type": "markdown",
   "id": "7d5c69e6",
   "metadata": {},
   "source": [
    "(1) Show that applying the difference-in-differences regression, $y_{it} = \\beta_0 + \\beta_1 TreatmentGroup_i + \\beta_2 PostTreatment_t + \\beta_{DiD}(TreatmentGroup_i \\times PostTreatment_t) + \\epsilon_{it}$ on a sample of just Utah and Colorado, where $y_{it}$ is the crime rate, and treatment is recreational marijuana legalization, will give $\\beta_{DiD} = TS^* = CS^*$ from the Treatment Effect lecture. You will need to start by noting things like $\\beta_0$ = the average crime rate in Utah before Colorado legalized marijuana, $\\beta_0 + \\beta_1$\n",
    "... \n",
    "Simulate data associated with this example."
   ]
  },
  {
   "cell_type": "code",
   "execution_count": null,
   "id": "01a9ff4b",
   "metadata": {},
   "outputs": [],
   "source": [
    "# todo"
   ]
  },
  {
   "cell_type": "markdown",
   "id": "7adebff4",
   "metadata": {},
   "source": [
    "(2) Simulate or collect data that may suffer from an endogeneity issue. Explain the endogeneity issue. Compare the outcomes of a 2SLS model a Two-Stage Machine Learning model and discuss the similarities and differences. If there are no differences, explain why that is."
   ]
  },
  {
   "cell_type": "code",
   "execution_count": null,
   "id": "dcbf189b",
   "metadata": {},
   "outputs": [],
   "source": []
  }
 ],
 "metadata": {
  "language_info": {
   "name": "python"
  }
 },
 "nbformat": 4,
 "nbformat_minor": 5
}
