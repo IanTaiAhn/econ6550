{
 "cells": [
  {
   "cell_type": "markdown",
   "id": "9b36532f",
   "metadata": {},
   "source": [
    "<h4>I used Claude, Anthropic's model to help with the code portion of this assignment.</h4>\n",
    "<h4>I used Copilot for help understanding these concepts.</h4>"
   ]
  },
  {
   "cell_type": "code",
   "execution_count": null,
   "id": "01a9ff4b",
   "metadata": {},
   "outputs": [],
   "source": [
    "# todo"
   ]
  }
 ],
 "metadata": {
  "language_info": {
   "name": "python"
  }
 },
 "nbformat": 4,
 "nbformat_minor": 5
}
