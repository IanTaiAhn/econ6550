{
 "cells": [
  {
   "cell_type": "markdown",
   "id": "c42332d5",
   "metadata": {},
   "source": [
    "<h4>I used Claude, Anthropic's model to help with the code portion of this assignment.</h4>\n",
    "<h4>I used Copilot for help understanding these concepts.</h4>"
   ]
  },
  {
   "cell_type": "markdown",
   "id": "39658c58",
   "metadata": {},
   "source": [
    "<p>(1) Find or come up with a model of simultaneous equations other than the supply and demand model that will result in endogeneity if one or more of the equations is estimated with OLS. Come up with one or more exogenous regressors that might be used to estimate the parameters of at least one of the equations in the system. Collect real data associated with your example, or simulated data associated with your example, and estimate it using OLS and IV or 2SLS.</p>"
   ]
  },
  {
   "cell_type": "markdown",
   "id": "6e614724",
   "metadata": {},
   "source": [
    "<p>I like the idea of House Equity, and the ability to purchase a home</p>\n",
    "<p>My initial thought is that while your home price increases, all the other surrounding homes will increase too. So after X amount of years you can afford a 1,000,000 home, but when you wanted it the value was 600,000.</p>"
   ]
  },
  {
   "cell_type": "markdown",
   "id": "184b57fe",
   "metadata": {},
   "source": [
    "Chat GPT Assisted Answer\n",
    "🏠 How Are House Equity and Purchasing Ability Interdependent?\n",
    "House Equity → Purchasing Ability\n",
    "\n",
    "If you already own a home and its value goes up, you gain equity.\n",
    "\n",
    "That equity can be used as a down payment or collateral to buy another house.\n",
    "\n",
    "So, more equity increases your ability to purchase.\n",
    "\n",
    "Purchasing Ability → House Equity\n",
    "\n",
    "If more people can afford homes (due to low interest rates or high income), demand rises.\n",
    "\n",
    "That pushes up home prices, which increases equity for current homeowners.\n",
    "\n",
    "So, greater purchasing ability boosts equity.\n",
    "\n",
    "🔄 Why This Creates Endogeneity\n",
    "Equity and purchasing power influence each other at the same time.\n",
    "\n",
    "If you try to estimate the effect of equity on home buying without accounting for this feedback loop, your results will be biased.\n",
    "\n",
    "That’s classic endogeneity — both variables are simultaneously determined."
   ]
  },
  {
   "cell_type": "markdown",
   "id": "b5dade8a",
   "metadata": {},
   "source": [
    "Copilot assisted break down.\n",
    "Purchasing Ability Equation: \n",
    "Purchase𝑖=𝛼+𝛽1⋅Equity𝑖+𝛽2⋅Income𝑖+𝜖𝑖\n",
    "\n",
    "Equity Equation:\n",
    "Equity𝑖=𝛾+𝛿1⋅Purchase𝑖+𝛿2⋅MarketPrice𝑖+𝜈𝑖\n",
    "\n",
    "Each equation contains the other variable — that’s what makes it simultaneous."
   ]
  },
  {
   "cell_type": "code",
   "execution_count": null,
   "id": "012d7d4d",
   "metadata": {},
   "outputs": [],
   "source": [
    "# todo"
   ]
  },
  {
   "cell_type": "markdown",
   "id": "eab78fd7",
   "metadata": {},
   "source": [
    "<p>(2) Do some research on standard errors for IV and 2SLS estimators. Use this to decide the \"best\" standard error associated with your IV or 2SLS estimation above. This may be one of the standard errors I showed in the video or a different method. Creative/different approaches will be awarded, e.g., bootstrapping. </p>"
   ]
  },
  {
   "cell_type": "code",
   "execution_count": null,
   "id": "720a5ded",
   "metadata": {},
   "outputs": [],
   "source": [
    "# todo"
   ]
  }
 ],
 "metadata": {
  "kernelspec": {
   "display_name": "ml_env",
   "language": "python",
   "name": "ml_env"
  },
  "language_info": {
   "name": "python",
   "version": "3.12.10"
  }
 },
 "nbformat": 4,
 "nbformat_minor": 5
}
