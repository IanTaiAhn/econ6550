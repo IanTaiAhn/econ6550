{
 "cells": [
  {
   "cell_type": "markdown",
   "id": "c42332d5",
   "metadata": {},
   "source": [
    "<h4>I used Claude, Anthropic's model to help with the code portion of this assignment.</h4>\n",
    "<h4>I used Copilot for help understanding these concepts.</h4>"
   ]
  },
  {
   "cell_type": "markdown",
   "id": "39658c58",
   "metadata": {},
   "source": [
    "<p>(1) Find or come up with a model of simultaneous equations other than the supply and demand model that will result in endogeneity if one or more of the equations is estimated with OLS. Come up with one or more exogenous regressors that might be used to estimate the parameters of at least one of the equations in the system. Collect real data associated with your example, or simulated data associated with your example, and estimate it using OLS and IV or 2SLS.</p>"
   ]
  },
  {
   "cell_type": "markdown",
   "id": "eab78fd7",
   "metadata": {},
   "source": [
    "<p>(2) Do some research on standard errors for IV and 2SLS estimators. Use this to decide the \"best\" standard error associated with your IV or 2SLS estimation above. This may be one of the standard errors I showed in the video or a different method. Creative/different approaches will be awarded, e.g., bootstrapping. </p>"
   ]
  }
 ],
 "metadata": {
  "language_info": {
   "name": "python"
  }
 },
 "nbformat": 4,
 "nbformat_minor": 5
}
