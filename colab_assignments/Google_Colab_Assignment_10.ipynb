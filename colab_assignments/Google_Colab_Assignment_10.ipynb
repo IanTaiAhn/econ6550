{
 "cells": [
  {
   "cell_type": "markdown",
   "id": "1ce9001f",
   "metadata": {},
   "source": [
    "<h4>I used Claude, Anthropic's model to help with the code portion of this assignment.</h4>\n",
    "<h4>I used Copilot for help understanding these concepts.</h4>"
   ]
  },
  {
   "cell_type": "markdown",
   "id": "e8c44c34",
   "metadata": {},
   "source": [
    "<h3>(1) Collect data to which applying an autoregression might make sense. Explain why autoregression might be a good fit for the data. Use an AR(1) and and an AR(optimal) model to predict the data and display the original data and predicted values in a time series chart. Check if the AIC and BIC criteria both result in the same number of lags for the AR(optimal) model.</h3>"
   ]
  },
  {
   "cell_type": "markdown",
   "id": "da60fe55",
   "metadata": {},
   "source": [
    "<h3>(2) Hide the end of the data set and forecast the series using the different models. Decide which model you would use and explain why.</h3>"
   ]
  },
  {
   "cell_type": "markdown",
   "id": "a706a1ce",
   "metadata": {},
   "source": [
    "<h3>(3) Add one other independent variable to the model and compare the forecasts of this updated model to the previous ones.</h3>"
   ]
  }
 ],
 "metadata": {
  "language_info": {
   "name": "python"
  }
 },
 "nbformat": 4,
 "nbformat_minor": 5
}
