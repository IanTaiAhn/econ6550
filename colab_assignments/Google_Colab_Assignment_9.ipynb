{
 "cells": [
  {
   "cell_type": "markdown",
   "id": "49d8535f",
   "metadata": {},
   "source": [
    "<h4>I used Claude, Anthropic's model to help with the code portion of this assignment.</h4>\n",
    "<h4>I used Copilot for help understanding these concepts.</h4>"
   ]
  },
  {
   "cell_type": "markdown",
   "id": "db5c3add",
   "metadata": {},
   "source": [
    "Prove that if\n",
    "\n",
    "$$\n",
    "y_{t+1} = \\gamma + \\phi y_t + \\epsilon_t \\quad \\forall t \\quad \\text{and} \\quad \\phi < 0 \\quad \\Rightarrow \\quad E(y_t) = \\frac{\\gamma}{1 - \\phi}\n",
    "$$\n"
   ]
  },
  {
   "cell_type": "markdown",
   "id": "e81e3b68",
   "metadata": {},
   "source": [
    "#### Step 1: Understanding the equation/first order AR model\n",
    "We really have a basic linear equation, with some time series magic, and the $\\phi$ is also very important because it tells us how much a lagged value influences the current value.\n",
    "So, the first equation is a first order autoregressive function which is to be used with time series data as shown here.\n",
    "\n",
    "$$y_{t+1} = \\gamma + \\phi y_t + \\epsilon_t \\quad$$\n",
    "\n",
    "Then the next part $\\forall t \\quad \\text{and} \\quad \\phi < 0$ translates to for all t, or every time point our $\\phi$ is negative. This allows us to expect mean-reverting or oscillatory behavior. What that means is that the first order AR function will settle around a stable mean. This is important because when we combine this rule with our expectation formula under the assumption of stationarity, there will be a stable long-run mean. Why do we care about this? It ensures our model is more stable, interpretable, and the forecasts are more reliable.\n",
    "\n",
    "Expectation formula: $\\quad E(y_t) = \\frac{\\gamma}{1 - \\phi}$\n",
    "\n",
    "Okay, that's a lot of background and explanation for what the above equations even mean. Now let's prove that the expected value when following the rules we set with $\\phi < 0$ in our first order AR function has a stable and constant mean over a long running process.\n",
    "\n"
   ]
  },
  {
   "cell_type": "markdown",
   "id": "692d977b",
   "metadata": {},
   "source": [
    "#### Step 2: Take the expectation on both sides\n",
    "Taking the expectation $E(\\cdot)$ on both sides:\n",
    "$$E(y_{t+1}) = E(\\gamma + \\phi y_t + \\epsilon_t).$$\n",
    "Since $\\gamma$ is a constant and $E(\\epsilon_t) = 0$, this becomes $$E(y_{t+1}) = \\gamma + \\phi E(y_t).$$\n",
    "We can do this because $\\epsilon_t$ represents random shocks and we can assume it has zero mean, because we don't want the error term to push our model up or down, meaning we want it centered at 0.\n",
    "#### Step 3: Assume stationarity\n",
    "If the process is stationary, the expected value does not depend on time $t$, so $$E(y_{t+1}) = E(y_t) = \\mu.$$\n",
    "Substitute into the equation: $$\\mu = \\gamma + \\phi \\mu.$$\n",
    "Stationarity means the mean, variance and autocorrelation doesn't change over time, so that is why we can treat the expected value as a constant across time.\n",
    "#### Step 4: Solve for $\\mu$\n",
    "Rearranging,\n",
    "$$\n",
    "\\mu - \\phi \\mu = \\gamma,\n",
    "$$\n",
    "$$\n",
    "\\mu (1 - \\phi) = \\gamma,\n",
    "$$\n",
    "$$\\mu = \\frac{\\gamma}{1 - \\phi}.$$\n",
    "#### Step 5: Condition on $\\phi$\n",
    "For the process to be stationary and the expectation to exist, we require $|\\phi| < 1$. Since $\\phi < 0$, this condition is satisfied if $-1 < \\phi < 0$.\n"
   ]
  },
  {
   "cell_type": "markdown",
   "id": "a05ef7cb",
   "metadata": {},
   "source": [
    "<h3>(2) Collect time series data as described in the lecture video.</h3>"
   ]
  },
  {
   "cell_type": "code",
   "execution_count": null,
   "id": "b08cfdb6",
   "metadata": {},
   "outputs": [],
   "source": [
    "# TODO \n",
    "# I'm kindve liking this dataset since it seems like gold price is a stable thing to invest in haha.\n",
    "# https://www.kaggle.com/datasets/nisargchodavadiya/daily-gold-price-20152021-time-series"
   ]
  },
  {
   "cell_type": "markdown",
   "id": "6ff9199d",
   "metadata": {},
   "source": [
    "<h3>a) Remove the most recent observation of the dependent variable from the data to construct the training data. Estimate an AR(1) model and an AR(2) model and compare the predictions to the observed most recent observations. Compare the R-Squares and MSE's and discuss the implications. Which model is better for explaining the overall variation in the dependent variable? Which model performs better at predicting the most recent observation?</h3>"
   ]
  },
  {
   "cell_type": "code",
   "execution_count": null,
   "id": "a6127c52",
   "metadata": {},
   "outputs": [],
   "source": [
    "# TODO ?"
   ]
  },
  {
   "cell_type": "markdown",
   "id": "8141484d",
   "metadata": {},
   "source": [
    "<h3>b) Add another independent variable to the model to construct an ARDL model. Write out the theoretical regression equation. Estimate the ARDL model and make the same comparisons mentioned above to the AR(1) and AR(2) model.</h3>"
   ]
  },
  {
   "cell_type": "code",
   "execution_count": null,
   "id": "7881a3e4",
   "metadata": {},
   "outputs": [],
   "source": [
    "# TODO ?"
   ]
  }
 ],
 "metadata": {
  "kernelspec": {
   "display_name": "ml_env",
   "language": "python",
   "name": "ml_env"
  },
  "language_info": {
   "name": "python",
   "version": "3.12.10"
  }
 },
 "nbformat": 4,
 "nbformat_minor": 5
}
