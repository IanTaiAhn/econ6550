{
 "cells": [
  {
   "cell_type": "markdown",
   "id": "49d8535f",
   "metadata": {},
   "source": [
    "<h4>I used Claude, Anthropic's model to help with the code portion of this assignment.</h4>\n",
    "<h4>I used Copilot for help understanding these concepts.</h4>"
   ]
  },
  {
   "cell_type": "markdown",
   "id": "02e454c1",
   "metadata": {},
   "source": [
    "NOTE* Equation might be off..\n",
    "<h3>Given the time series equation:</h3> \n",
    "\n",
    "$$\n",
    "y_{t+1} = \\alpha + \\beta y_t + \\varepsilon_t + \\gamma t \\quad \\text{with } 0 < \\beta < 1,\n",
    "$$\n",
    "\n",
    "<h3>prove that:</h3>\n",
    "\n",
    "$$\n",
    "E(y_t) = -\\frac{\\gamma}{1 - \\beta}.\n",
    "$$\n"
   ]
  },
  {
   "cell_type": "markdown",
   "id": "a05ef7cb",
   "metadata": {},
   "source": [
    "<h3>(2) Collect time series data as described in the lecture video.</h3>"
   ]
  },
  {
   "cell_type": "markdown",
   "id": "6ff9199d",
   "metadata": {},
   "source": [
    "<h3>a) Remove the most recent observation of the dependent variable from the data to construct the training data. Estimate an AR(1) model and an AR(2) model and compare the predictions to the observed most recent observations. Compare the R-Squares and MSE's and discuss the implications. Which model is better for explaining the overall variation in the dependent variable? Which model performs better at predicting the most recent observation?</h3>"
   ]
  },
  {
   "cell_type": "markdown",
   "id": "8141484d",
   "metadata": {},
   "source": [
    "<h3>b) Add another independent variable to the model to construct an ARDL model. Write out the theoretical regression equation. Estimate the ARDL model and make the same comparisons mentioned above to the AR(1) and AR(2) model.</h3>"
   ]
  }
 ],
 "metadata": {
  "language_info": {
   "name": "python"
  }
 },
 "nbformat": 4,
 "nbformat_minor": 5
}
