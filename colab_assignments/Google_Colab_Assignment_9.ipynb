{
 "cells": [
  {
   "cell_type": "markdown",
   "id": "49d8535f",
   "metadata": {},
   "source": [
    "<h4>I used Claude, Anthropic's model to help with the code portion of this assignment.</h4>\n",
    "<h4>I used Copilot for help understanding these concepts.</h4>"
   ]
  },
  {
   "cell_type": "markdown",
   "id": "db5c3add",
   "metadata": {},
   "source": [
    "Prove that if\n",
    "\n",
    "$$\n",
    "y_{t+1} = \\gamma + \\phi y_t + \\epsilon_t \\quad \\forall t \\quad \\text{and} \\quad \\phi < 0 \\quad \\Rightarrow \\quad E(y_t) = \\frac{\\gamma}{1 - \\phi}\n",
    "$$\n"
   ]
  },
  {
   "cell_type": "markdown",
   "id": "e81e3b68",
   "metadata": {},
   "source": [
    "We really have a basic linear equation, with some time series magic, and the $\\phi$ is also very important because it tells us how much a lagged value influences the current value.\n",
    "So, the first equation is a first order autoregressive function which is to be used with time series data as shown here.\n",
    "\n",
    "$$y_{t+1} = \\gamma + \\phi y_t + \\epsilon_t \\quad$$\n",
    "\n",
    "Then the next part $\\forall t \\quad \\text{and} \\quad \\phi < 0$ translates to for all t, or every time point our $\\phi$ is negative. This allows us to expect mean-reverting or oscillatory behavior. What that means is that the first order AR function will settle around a stable mean. This is important because when we combine this rule with our expectation formula under the assumption of stationarity, there will be a stable long-run mean. Why do we care about this? It ensures our model is more stable, interpretable, and the forecasts are more reliable.\n",
    "\n",
    "Expectation formula: $\\quad E(y_t) = \\frac{\\gamma}{1 - \\phi}$\n",
    "\n",
    "Okay, that's a lot of background and explanation for what the above equations even mean. Now let's prove that the expected value when following the rules we set with $\\phi < 0$ in our first order ar function has a stable and constant mean over a long running process.\n",
    "\n"
   ]
  },
  {
   "cell_type": "markdown",
   "id": "a05ef7cb",
   "metadata": {},
   "source": [
    "<h3>(2) Collect time series data as described in the lecture video.</h3>"
   ]
  },
  {
   "cell_type": "code",
   "execution_count": null,
   "id": "b08cfdb6",
   "metadata": {},
   "outputs": [],
   "source": [
    "# TODO "
   ]
  },
  {
   "cell_type": "markdown",
   "id": "6ff9199d",
   "metadata": {},
   "source": [
    "<h3>a) Remove the most recent observation of the dependent variable from the data to construct the training data. Estimate an AR(1) model and an AR(2) model and compare the predictions to the observed most recent observations. Compare the R-Squares and MSE's and discuss the implications. Which model is better for explaining the overall variation in the dependent variable? Which model performs better at predicting the most recent observation?</h3>"
   ]
  },
  {
   "cell_type": "code",
   "execution_count": null,
   "id": "a6127c52",
   "metadata": {},
   "outputs": [],
   "source": [
    "# TODO ?"
   ]
  },
  {
   "cell_type": "markdown",
   "id": "8141484d",
   "metadata": {},
   "source": [
    "<h3>b) Add another independent variable to the model to construct an ARDL model. Write out the theoretical regression equation. Estimate the ARDL model and make the same comparisons mentioned above to the AR(1) and AR(2) model.</h3>"
   ]
  },
  {
   "cell_type": "code",
   "execution_count": null,
   "id": "7881a3e4",
   "metadata": {},
   "outputs": [],
   "source": [
    "# TODO ?"
   ]
  }
 ],
 "metadata": {
  "kernelspec": {
   "display_name": "ml_env",
   "language": "python",
   "name": "ml_env"
  },
  "language_info": {
   "name": "python",
   "version": "3.12.10"
  }
 },
 "nbformat": 4,
 "nbformat_minor": 5
}
