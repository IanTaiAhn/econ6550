{
 "cells": [
  {
   "cell_type": "markdown",
   "id": "e1ce4ff1",
   "metadata": {},
   "source": [
    "<h4>I used Claude, Anthropic's model to help with the code portion of this assignment.</h4>\n",
    "<h4>I used Copilot for help understanding these concepts.</h4>"
   ]
  },
  {
   "cell_type": "code",
   "execution_count": 3,
   "id": "c9ca131a",
   "metadata": {},
   "outputs": [],
   "source": [
    "import numpy as np\n",
    "import matplotlib.pyplot as plt\n",
    "from sklearn.linear_model import LinearRegression\n",
    "import statsmodels.api as sm"
   ]
  },
  {
   "cell_type": "markdown",
   "id": "7b543603",
   "metadata": {},
   "source": [
    "<h3>(1) Use matrix operations to show that the matrix representation of the linear regression model (𝐘=𝐗𝜷+𝝐) is equivalent to the arbitrary observation representation (\n",
    ").</h3>"
   ]
  },
  {
   "cell_type": "code",
   "execution_count": null,
   "id": "f487c7a7",
   "metadata": {},
   "outputs": [],
   "source": [
    "# todo"
   ]
  },
  {
   "cell_type": "markdown",
   "id": "11b2c90c",
   "metadata": {},
   "source": [
    "<h3>(2) Come up with a story about a theoretical relationship between a dependent variable and two independent variables.</h3>\n",
    "<p>The second independent variable should be the first independent variable squared. Your story should include an explanation for the inclusion of both terms. For example, if the dependent variable is tax revenue, and the independent variable is tax rate, then we might expect this type of nonlinear relationship as tax revenue likely increases with tax rate for low tax rates, but probably decreases with tax rate for very high tax rates. \n",
    "Simulate data for your example then plot the data and population regression line. Show the equation of the derivative (slope) of the dependent variable with respect to the independent variable. \n",
    "Plot this derivative equation as a line in a second plot and explain the meaning. Comment on both plots.\n",
    "</p>"
   ]
  },
  {
   "cell_type": "markdown",
   "id": "a9b319ca",
   "metadata": {},
   "source": [
    "<h3>(3) Come up with a story and simulate data for a population regression model with two independent variables: a continuous variable and a categorical variable. </h3>\n",
    "<p> Plot the data on a scatter plot. Use the LinearRegression class from the linear_model module in the sklearn library to estimate two regression equations: one that includes only the continuous variable as an independent variable, and one that includes both the continuous and categorical variable (see the Introduction to Econometrics colabLinks to an external site.). \n",
    "Plot these lines on the same chart. (Note that the model with the categorical will actually be represented by two lines like in the Colab example, so there will be three total lines on the chart.) Comment on how well the lines do in terms of estimating the relationship (slope) between the dependent variable and continuous independent variable.</p>"
   ]
  }
 ],
 "metadata": {
  "kernelspec": {
   "display_name": "ml_env",
   "language": "python",
   "name": "ml_env"
  },
  "language_info": {
   "codemirror_mode": {
    "name": "ipython",
    "version": 3
   },
   "file_extension": ".py",
   "mimetype": "text/x-python",
   "name": "python",
   "nbconvert_exporter": "python",
   "pygments_lexer": "ipython3",
   "version": "3.12.10"
  }
 },
 "nbformat": 4,
 "nbformat_minor": 5
}
