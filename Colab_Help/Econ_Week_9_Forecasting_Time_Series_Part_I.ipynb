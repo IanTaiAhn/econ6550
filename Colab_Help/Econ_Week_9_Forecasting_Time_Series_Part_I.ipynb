{
  "cells": [
    {
      "cell_type": "markdown",
      "metadata": {
        "id": "JCZ_m3judM-H"
      },
      "source": [
        "##Principles of Forecasting\n",
        "\n",
        "###Forecasts Based on Conditional Expectation\n",
        "\n",
        "Suppose we are interested in forcasting the dependent variable $y_{t+1}$, based on the independent variables $X_t$, i.e., we want to predict a dependent variable in the next period ($t+1$) based on information about independent variables in the current period ($t$). One common example is forecasting $y_{t+1}$ using the $m$ most recent values, so $X_t$ consists of $y_t$, $y_{t-1}$,...,$y_{t-m+1}$. Let $\\widehat{y}_{t+1|t}$ denote the **forecast** of $y_{t+1}$ based on $X_t$.\n",
        "\n",
        "We will choose a **loss function** to summarize how concerned we are if our forecast misses by a certain amount. Quadratic loss functions provide particularly convenient results, so a very common choice is the **Mean Squared Error (MSE)**:\n",
        "\\begin{equation}\n",
        "MSE(\\widehat{y}_{t+1|t}) = E(y_{t+1} - \\widehat{y}_{t+1|t})^2.\n",
        "\\end{equation}\n",
        "It can be proven analytically that the forecast that leads to the smallest MSE is the conditional expectation of $y_{t+1}$ given $X_t$ or $E(y_{t+1}|X_t)$.\n",
        "\n",
        "###Forecasts Based on Linear Projection\n",
        "\n",
        "Now, we restrict the class of forecasts considered to linear functions:\n",
        "\\begin{equation}\n",
        "\\widehat{y}_{t+1|t} = \\mathbf{\\alpha}'X_t\n",
        "\\end{equation}\n",
        "where $\\mathbf{\\alpha}$ is a vector of parameters. Suppose we find a $\\mathbf{\\alpha}$ such that\n",
        "\\begin{equation}\n",
        "E[(y_{t+1} - \\mathbf{\\alpha}'X_t)X_t'] = \\mathbf{0'}.\n",
        "\\end{equation}\n",
        "Then, we call the forecast $\\mathbf{\\alpha}'X_t$ the **linear projection** of $y_{t+1}$ on $X_t$. Note that this choice of $\\alpha$ makes the error terms, $(y_{t+1} - \\mathbf{\\alpha}'X_t)$, and the independent variables, $X_t$, **orthogonal**. This linear projection turns out to produce the smallest MSE among all choices of linear models.\n",
        "\n",
        "###Linear Projection and Ordinary Least Squares (OLS)\n",
        "\n",
        "The discussion above involves (probably unknown) population parameters. Recall from our previous discussions of OLS that the least squares estimator, applied to *sample* data, can be written:\n",
        "\\begin{equation}\n",
        "\\mathbf{b} = \\left[\\sum_{t=1}^T\\mathbf{x}_t\\mathbf{x}_t'\\right]^{-1}\\left[\\sum_{t=1}^T\\mathbf{x}_ty_{t+1}\\right]\n",
        "\\end{equation}\n",
        "where $\\mathbf{x}_t$ and $y_{t+1}$ come from a sample of data.\n",
        "\n",
        "If we assume that the data generating process that defines the relationship between $X_t$ and $y_{t+1}$ is **covariance stationary** and **ergodic** then OLS estimates, $\\mathbf{b}$, converge to optimal linear projections, $\\alpha$, as the sample size increases to infinity.  \n",
        "\n",
        "**Covariance stationarity** (or weak stationarity) means that the statistical properties of the time series—specifically, the mean, variance, and autocovariances—do not change over time. In other words, the process generating the data is stable, so if we observe it at different points in time, we expect the same behavior in terms of these statistics.\n",
        "\n",
        "**Ergodicity** means that, given enough data, the time series behavior we observe over time will reflect the “true” or average behavior across all possible realizations of the process. In other words, a single long time series is representative of the behavior of the entire process, as if we had many different versions (or “replications”) of it.\n",
        "\n",
        "###Forecasting with Lagged Values\n",
        "\n",
        "One of the most common and fundamental ways to predict $y_{t+1}$ is using an **auto-regressive model** or **autoregression** in which the independent variables are **lags** of the depedent variable. An **AR(1)** autoregression can be written\n",
        "\\begin{equation}\n",
        "y_{t+1} = \\beta_0 +\\phi y_t + \\epsilon_{t+1},\n",
        "\\end{equation}\n",
        "while an **AR(m)** autoregression can be written\n",
        "\\begin{equation}\n",
        "y_{t+1} = \\beta_0 + \\phi_0 y_t + \\phi_1 y_{t-1} + \\phi_2 y_{t-2} + \\dots + \\phi_m y_{t-m} + \\epsilon_{t+1}\n",
        "\\end{equation}\n",
        "where $\\beta_0$ is a constant term. If $|\\phi|\\lt 1$ then the long-run expectaton of the dependent variable is\n",
        "\\begin{equation}\n",
        "E(y_t) = \\frac{\\beta_0}{1-\\phi}\n",
        "\\end{equation}\n",
        "\n",
        "When we add independent variables, and lags of those variables, we get an **autoregressive distributed lag model (ARDL)** which can be written\n",
        "\\begin{equation}\n",
        "y_{t+1} = \\beta_0 + \\phi y_t + \\beta_1X_t + \\beta_2 X_{t-1} + \\epsilon_{t+1}.\n",
        "\\end{equation}\n",
        "\n",
        "Let's look at these models using inflation data."
      ]
    },
    {
      "cell_type": "code",
      "execution_count": null,
      "metadata": {
        "id": "_YXyUvQcX3fo"
      },
      "outputs": [],
      "source": [
        "import pandas as pd\n",
        "import numpy as np\n",
        "from statsmodels.tsa.ar_model import AutoReg\n",
        "from datetime import datetime"
      ]
    },
    {
      "cell_type": "markdown",
      "metadata": {
        "id": "bylMCrJSaqha"
      },
      "source": [
        "##AR(1) model"
      ]
    },
    {
      "cell_type": "code",
      "execution_count": null,
      "metadata": {
        "colab": {
          "base_uri": "https://localhost:8080/"
        },
        "id": "qq1tOtq1YCUr",
        "outputId": "4c3718c7-479f-4b53-faea-5034ff1b2809"
      },
      "outputs": [
        {
          "name": "stdout",
          "output_type": "stream",
          "text": [
            "Predicted Inflation: 0.21086048404452756\n",
            "Actual Inflation: 0.17986699392908978\n",
            "MSE: 0.0009605964295357395\n",
            "Estimated Long-Run Average Inflation: 0.23219799669365376\n",
            "R-squared: 0.22584374793933581\n"
          ]
        }
      ],
      "source": [
        "# Load the data from the CSV file\n",
        "data = pd.read_csv('CPI and Oil Prompt Price.csv')\n",
        "\n",
        "# Convert the \"date\" column to a datetime format\n",
        "data['date'] = pd.to_datetime(data['date'], format='%m/%d/%y')\n",
        "\n",
        "# Sort data by date to ensure chronological order\n",
        "data = data.sort_values(by='date').reset_index(drop=True)\n",
        "\n",
        "# Calculate the percent changes for CPI and oil price\n",
        "data['cpi_pct_change'] = data['cpi_index'].pct_change(fill_method=None) * 100\n",
        "data['oil_pct_change'] = data['oil_price'].pct_change(fill_method=None) * 100\n",
        "\n",
        "# Drop rows with NaN values generated by the percent change calculation\n",
        "data = data.dropna().reset_index(drop=True)\n",
        "\n",
        "# Knock off the most recent inflation value (last row in cpi_pct_change)\n",
        "# Save this for later comparison with the forecast\n",
        "actual_inflation = data['cpi_pct_change'].iloc[-1]\n",
        "data = data.iloc[:-1]  # Remove the last row\n",
        "\n",
        "# Prepare the data for AR(1) forecasting\n",
        "# We only use lagged values of 'cpi_pct_change' for this model (no oil price)\n",
        "train_data = data['cpi_pct_change']\n",
        "\n",
        "# Fit the AR(1) model\n",
        "model = AutoReg(train_data, lags=1)\n",
        "model_fit = model.fit()\n",
        "\n",
        "# Extract the constant (intercept) and slope (AR(1) coefficient)\n",
        "constant = model_fit.params['const']\n",
        "slope = model_fit.params['cpi_pct_change.L1']\n",
        "\n",
        "# Calculate the long-run average inflation\n",
        "long_run_average_inflation = constant / (1 - slope)\n",
        "\n",
        "# Generate the forecast for the next period\n",
        "forecast = model_fit.predict(start=len(train_data), end=len(train_data))\n",
        "\n",
        "# Compare forecast with actual inflation in levels and squared (MSE)\n",
        "predicted_inflation = forecast.iloc[0]\n",
        "mse = (predicted_inflation - actual_inflation) ** 2\n",
        "\n",
        "# Calculate R-squared manually\n",
        "fitted_values = model_fit.fittedvalues\n",
        "y_mean = train_data.mean()\n",
        "ss_total = np.sum((train_data - y_mean) ** 2)\n",
        "ss_residual = np.sum((train_data - fitted_values) ** 2)\n",
        "r_squared = 1 - (ss_residual / ss_total)\n",
        "\n",
        "# Display the results\n",
        "print(\"Predicted Inflation:\", predicted_inflation)\n",
        "print(\"Actual Inflation:\", actual_inflation)\n",
        "print(\"MSE:\", mse)\n",
        "print(\"Estimated Long-Run Average Inflation:\", long_run_average_inflation)\n",
        "print(\"R-squared:\", r_squared)"
      ]
    },
    {
      "cell_type": "markdown",
      "metadata": {
        "id": "0FDCVV3Taudu"
      },
      "source": [
        "#ARDL Model"
      ]
    },
    {
      "cell_type": "code",
      "execution_count": null,
      "metadata": {
        "colab": {
          "base_uri": "https://localhost:8080/"
        },
        "id": "RbF15KJzat3C",
        "outputId": "ba673370-87ba-446f-9826-d558f46f9664"
      },
      "outputs": [
        {
          "name": "stdout",
          "output_type": "stream",
          "text": [
            "Predicted Inflation with Oil Price: 0.3666233864796053\n",
            "Actual Inflation: 0.3129103545463252\n",
            "MSE: 0.002885089799465566\n",
            "R-squared: 0.452734965576719\n"
          ]
        }
      ],
      "source": [
        "# Add a lagged value for oil percent change and inflation percent change\n",
        "data['oil_pct_change_lag1'] = data['oil_pct_change'].shift(1)\n",
        "data['cpi_pct_change_lag1'] = data['cpi_pct_change'].shift(1)\n",
        "\n",
        "# Drop any remaining NaN values due to lagging\n",
        "data = data.dropna().reset_index(drop=True)\n",
        "\n",
        "# Define the exogenous variables, including the lagged CPI and oil price changes\n",
        "X = data[['oil_pct_change', 'oil_pct_change_lag1', 'cpi_pct_change_lag1']]\n",
        "\n",
        "# Fit the model with added lagged CPI and oil prices and ensure an intercept is included\n",
        "model = AutoReg(data['cpi_pct_change'], lags=1, exog=X)  # 'trend=\"c\"' ensures an intercept\n",
        "model_fit = model.fit()\n",
        "\n",
        "# Set out-of-sample values for the exogenous variables (most recent observed values)\n",
        "exog_oos = X.iloc[-1:].values\n",
        "\n",
        "# Generate the forecast for the next period\n",
        "forecast = model_fit.predict(start=len(data), end=len(data), exog_oos=exog_oos)\n",
        "\n",
        "# Compare forecast with the actual last inflation value in both levels and squared (MSE)\n",
        "predicted_inflation = forecast.iloc[0]\n",
        "mse = (predicted_inflation - actual_inflation) ** 2\n",
        "\n",
        "# Calculate R-squared manually\n",
        "fitted_values = model_fit.fittedvalues\n",
        "y_mean = data['cpi_pct_change'].mean()\n",
        "ss_total = np.sum((data['cpi_pct_change'] - y_mean) ** 2)\n",
        "ss_residual = np.sum((data['cpi_pct_change'] - fitted_values) ** 2)\n",
        "r_squared = 1 - (ss_residual / ss_total)\n",
        "\n",
        "# Display the results\n",
        "print(\"Predicted Inflation with Oil Price:\", predicted_inflation)\n",
        "print(\"Actual Inflation:\", actual_inflation)\n",
        "print(\"MSE:\", mse)\n",
        "print(\"R-squared:\", r_squared)\n"
      ]
    }
  ],
  "metadata": {
    "colab": {
      "provenance": []
    },
    "kernelspec": {
      "display_name": "ml_env",
      "language": "python",
      "name": "ml_env"
    },
    "language_info": {
      "name": "python",
      "version": "3.12.10"
    }
  },
  "nbformat": 4,
  "nbformat_minor": 0
}
